{
 "cells": [
  {
   "cell_type": "code",
   "execution_count": 1,
   "metadata": {},
   "outputs": [],
   "source": [
    "import numpy as np\n",
    "import SimpleITK as sitk\n",
    "import os\n",
    "join = os.path.join \n",
    "from skimage import transform, io, segmentation\n",
    "from tqdm import tqdm\n",
    "import torch\n",
    "from segment_anything import SamPredictor, sam_model_registry\n",
    "from segment_anything.utils.transforms import ResizeLongestSide\n",
    "import argparse"
   ]
  },
  {
   "cell_type": "code",
   "execution_count": null,
   "metadata": {},
   "outputs": [],
   "source": [
    "import os\n",
    "import glob\n",
    "\n",
    "def split_nii_files(data_dir, train_dir, test_dir, type):\n",
    "    \"\"\"Splits the nii files in data_dir into train and test sets.\n",
    "\n",
    "    Args:\n",
    "    data_dir: The directory containing the nii files.\n",
    "    train_dir: The directory where the train nii files should be saved.\n",
    "    test_dir: The directory where the test nii files should be saved.\n",
    "    \"\"\"\n",
    "    type = \"_\" + type + \".nii\"\n",
    "    for directory in os.listdir(data_dir):\n",
    "        train_files = []\n",
    "        test_files = []\n",
    "\n",
    "    for filename in glob.glob(os.path.join(data_dir, directory, \"*.nii\")):\n",
    "        if filename.endswith(\"_seg.nii\"):\n",
    "            test_files.append(filename)\n",
    "\n",
    "        if filename.endswith(\"type\"):\n",
    "            train_files.append(filename)\n",
    "\n",
    "    os.makedirs(os.path.join(train_dir, directory), exist_ok=True)\n",
    "    os.makedirs(os.path.join(test_dir, directory), exist_ok=True)\n",
    "\n",
    "    for filename in train_files:\n",
    "        os.system(f\"cp {filename} {os.path.join(train_dir, directory)}\")\n",
    "\n",
    "    for filename in test_files:\n",
    "        os.system(f\"cp {filename} {os.path.join(test_dir, directory)}\")\n",
    "\n",
    "    if __name__ == \"__main__\":\n",
    "        data_dir = \"BraTS2020_TrainingData/MICCAI_BraTS2020_TrainingData\"\n",
    "        train_dir = \"medsam_test_data\"\n",
    "        test_dir = \"medsam_test_data\"\n",
    "\n",
    "    split_nii_files(data_dir, train_dir, test_dir, type=\"t2\")\n"
   ]
  }
 ],
 "metadata": {
  "kernelspec": {
   "display_name": "uriel_sam_clean",
   "language": "python",
   "name": "python3"
  },
  "language_info": {
   "codemirror_mode": {
    "name": "ipython",
    "version": 3
   },
   "file_extension": ".py",
   "mimetype": "text/x-python",
   "name": "python",
   "nbconvert_exporter": "python",
   "pygments_lexer": "ipython3",
   "version": "3.10.8"
  },
  "orig_nbformat": 4
 },
 "nbformat": 4,
 "nbformat_minor": 2
}
